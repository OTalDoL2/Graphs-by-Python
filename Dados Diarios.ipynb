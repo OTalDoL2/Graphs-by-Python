{
 "cells": [
  {
   "cell_type": "code",
   "execution_count": 8,
   "metadata": {},
   "outputs": [
    {
     "name": "stdout",
     "output_type": "stream",
     "text": [
      "getting Rs\n",
      "getting u2\n",
      "getting RH\n",
      "getting pr\n",
      "getting ETo\n",
      "arquivo 1 de um total de 1; nome do arquivo: lat-15.79_lon-47.93.csv\n"
     ]
    }
   ],
   "source": [
    "import numpy as np\n",
    "import xarray as xr\n",
    "import pandas as pd\n",
    "import time\n",
    "\n",
    "### ===== EXTRAÇÃO DE DADOS DIÁRIOS ===== #\n",
    "\n",
    "# set correct path of the netcdf files\n",
    "path_var = 'C:\\\\Users\\lucas.ramos\\OneDrive\\Desktop\\Base Climatica\\Tipos/'\n",
    "\n",
    "# Posicoes: Colocar em ordem, separando por virgula. Neste exemplo temos dois pontos em que as coordenadas\n",
    "# (lat, lon) sao (-20.6,-44.6) e  (-21.0, -44.1), respectivamente para o primeiro e segundo ponto.\n",
    "# Pode-se colocar quantos pontos quiser, apenas separe por virgula.\n",
    "lat = [-15.78944444]\n",
    "lon = [-47.92583332]\n",
    "\n",
    "# variables names\n",
    "var_names = ['Rs', 'u2', 'RH', 'pr', 'ETo']\n",
    "\n",
    "# function to read the netcdf files\n",
    "def rawData(var2get_xr, var_name2get):\n",
    "    return var2get_xr[var_name2get].sel(longitude=xr.DataArray(lon, dims='z'),\n",
    "                                          latitude=xr.DataArray(lat, dims='z'),\n",
    "                                          method='nearest').values\n",
    "\n",
    "# getting data from NetCDF files\n",
    "for n, var_name2get in enumerate(var_names):\n",
    "    print(\"getting \" + var_name2get)\n",
    "    var2get_xr = xr.open_mfdataset(path_var + var_name2get + '*.nc')\n",
    "    if n == 0:\n",
    "        var_ar = rawData(var2get_xr, var_name2get)\n",
    "        n_lines = var_ar.shape[0]\n",
    "        time = var2get_xr.time.values\n",
    "    else:\n",
    "        var_ar = np.c_[var_ar, rawData(var2get_xr, var_name2get)]\n",
    "\n",
    "# saving\n",
    "for n in range(len(lat)):\n",
    "    name_file =  'lat{:.2f}_lon{:.2f}.csv'.format(lat[n], lon[n])\n",
    "    print(f'arquivo {n + 1} de um total de {len(lat)}; nome do arquivo: {name_file}')\n",
    "    if ~np.isnan(var_ar[0, n]):\n",
    "        file = var_ar[:, n::len(lon)]\n",
    "        pd.DataFrame(file, index=time, columns=var_names).to_csv(name_file, float_format='%.1f')"
   ]
  }
 ],
 "metadata": {
  "kernelspec": {
   "display_name": "Python 3",
   "language": "python",
   "name": "python3"
  },
  "language_info": {
   "codemirror_mode": {
    "name": "ipython",
    "version": 3
   },
   "file_extension": ".py",
   "mimetype": "text/x-python",
   "name": "python",
   "nbconvert_exporter": "python",
   "pygments_lexer": "ipython3",
   "version": "3.11.1"
  },
  "orig_nbformat": 4,
  "vscode": {
   "interpreter": {
    "hash": "3d1063306dd2dfa409579677bd8f1fbeb22bfb9a1fae2590d0b03201f536f820"
   }
  }
 },
 "nbformat": 4,
 "nbformat_minor": 2
}
